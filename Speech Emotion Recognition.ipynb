{
 "cells": [
  {
   "cell_type": "markdown",
   "id": "124f05a6",
   "metadata": {},
   "source": [
    "**SPEECH EMOTION RECOGNITION - MACHINE LEARNING/DEEP LEARNING**"
   ]
  },
  {
   "cell_type": "markdown",
   "id": "5e7ad2b4",
   "metadata": {},
   "source": [
    "                                          Using Machine Learning"
   ]
  },
  {
   "cell_type": "code",
   "execution_count": 1,
   "id": "f8de7d84",
   "metadata": {},
   "outputs": [],
   "source": [
    "import librosa\n",
    "import librosa.display\n",
    "import seaborn as sbn\n",
    "import matplotlib.pyplot as plt\n",
    "from sklearn import metrics"
   ]
  },
  {
   "cell_type": "code",
   "execution_count": 2,
   "id": "dde58bbb",
   "metadata": {},
   "outputs": [],
   "source": [
    "import soundfile\n",
    "import os, glob, pickle\n",
    "import sys\n",
    "import numpy as np\n",
    "from sklearn.model_selection import train_test_split\n",
    "from sklearn.neural_network import MLPClassifier\n",
    "from sklearn.metrics import accuracy_score"
   ]
  },
  {
   "cell_type": "code",
   "execution_count": 3,
   "id": "db8405a0",
   "metadata": {},
   "outputs": [],
   "source": [
    "from IPython.display import Audio"
   ]
  },
  {
   "cell_type": "code",
   "execution_count": 4,
   "id": "68cf4837",
   "metadata": {},
   "outputs": [],
   "source": [
    "import warnings\n",
    "if not sys.warnoptions:\n",
    "    warnings.simplefilter(\"ignore\")\n",
    "warnings.filterwarnings(\"ignore\",category=DeprecationWarning)    "
   ]
  },
  {
   "cell_type": "code",
   "execution_count": 5,
   "id": "e233e5fd",
   "metadata": {},
   "outputs": [],
   "source": [
    "def extract_feature(file_name, mfcc, chroma, mel):\n",
    "    X, sample_rate = librosa.load(os.path.join(file_name), res_type='kaiser_fast')\n",
    "    if chroma:\n",
    "        stft=np.abs(librosa.stft(X))\n",
    "    result=np.array([])\n",
    "    if mfcc:\n",
    "        mfccs=np.mean(librosa.feature.mfcc(y=X, sr=sample_rate, n_mfcc=40).T, axis=0)\n",
    "        result=np.hstack((result, mfccs))\n",
    "    if chroma:\n",
    "        chroma=np.mean(librosa.feature.chroma_stft(S=stft, sr=sample_rate).T,axis=0)\n",
    "        result=np.hstack((result, chroma))\n",
    "    if mel:\n",
    "        mel=np.mean(librosa.feature.melspectrogram(X, sr=sample_rate).T,axis=0)\n",
    "        result=np.hstack((result, mel))\n",
    "    return result"
   ]
  },
  {
   "cell_type": "code",
   "execution_count": 6,
   "id": "acc2d472",
   "metadata": {},
   "outputs": [],
   "source": [
    "emotions={\n",
    "  '01':'neutral',\n",
    "  '02':'calm',\n",
    "  '03':'happy',\n",
    "  '04':'sad',\n",
    "  '05':'angry',\n",
    "  '06':'fearful',\n",
    "  '07':'disgust',\n",
    "  '08':'surprised'\n",
    "}\n",
    "# Emotions to observe\n",
    "observed_emotions=['neutral','calm','happy','sad','angry','fearful', 'disgust','surprised']"
   ]
  },
  {
   "cell_type": "code",
   "execution_count": 7,
   "id": "eb4fedce",
   "metadata": {},
   "outputs": [],
   "source": [
    "def load_data(test_size=0.2):\n",
    "    x,y=[],[]\n",
    "    for file in glob.glob('C:/Users/HP/Desktop/FINAL PROJECT/RAVTESS/Actor_*/*.wav'):\n",
    "        file_name=os.path.basename(file)\n",
    "        emotion=emotions[file_name.split(\"-\")[2]]\n",
    "        if emotion not in observed_emotions:\n",
    "            continue\n",
    "        feature=extract_feature(file, mfcc=True, chroma=True, mel=True)\n",
    "        x.append(feature)\n",
    "        y.append(emotion)\n",
    "    return train_test_split(np.array(x), y, test_size=test_size, train_size= 0.75,random_state=9)"
   ]
  },
  {
   "cell_type": "code",
   "execution_count": 8,
   "id": "3fb10c7e",
   "metadata": {},
   "outputs": [],
   "source": [
    "# Split the dataset\n",
    "import time\n",
    "x_train,x_test,y_train,y_test=load_data(test_size=0.25)"
   ]
  },
  {
   "cell_type": "code",
   "execution_count": 9,
   "id": "d068de30",
   "metadata": {},
   "outputs": [
    {
     "name": "stdout",
     "output_type": "stream",
     "text": [
      "(3939, 1313)\n"
     ]
    }
   ],
   "source": [
    "print((x_train.shape[0], x_test.shape[0]))"
   ]
  },
  {
   "cell_type": "code",
   "execution_count": 10,
   "id": "f5a3b88f",
   "metadata": {},
   "outputs": [
    {
     "name": "stdout",
     "output_type": "stream",
     "text": [
      "Features extracted: 180\n"
     ]
    }
   ],
   "source": [
    "# Get the number of features extracted\n",
    "print(f'Features extracted: {x_train.shape[1]}')"
   ]
  },
  {
   "cell_type": "markdown",
   "id": "e1d0557d",
   "metadata": {},
   "source": [
    "**MLP Classifier**"
   ]
  },
  {
   "cell_type": "code",
   "execution_count": 11,
   "id": "c2e5a0cf",
   "metadata": {},
   "outputs": [],
   "source": [
    "# Initialize the Multi Layer Perceptron Classifier\n",
    "model=MLPClassifier(alpha=0.01, batch_size=256, epsilon=1e-08, hidden_layer_sizes=(300,), learning_rate='adaptive', max_iter=500)"
   ]
  },
  {
   "cell_type": "code",
   "execution_count": 12,
   "id": "8581b8c6",
   "metadata": {},
   "outputs": [
    {
     "data": {
      "text/plain": [
       "MLPClassifier(alpha=0.01, batch_size=256, hidden_layer_sizes=(300,),\n",
       "              learning_rate='adaptive', max_iter=500)"
      ]
     },
     "execution_count": 12,
     "metadata": {},
     "output_type": "execute_result"
    }
   ],
   "source": [
    "# Train the model\n",
    "model.fit(x_train,y_train)"
   ]
  },
  {
   "cell_type": "code",
   "execution_count": 13,
   "id": "b9b0611a",
   "metadata": {},
   "outputs": [],
   "source": [
    "# Predict for the test set\n",
    "y_pred=model.predict(x_test)"
   ]
  },
  {
   "cell_type": "code",
   "execution_count": 14,
   "id": "5c90d633",
   "metadata": {},
   "outputs": [
    {
     "name": "stdout",
     "output_type": "stream",
     "text": [
      "The accuracy of trained model is: 81.42%\n"
     ]
    }
   ],
   "source": [
    "# Calculate the accuracy of our model\n",
    "accuracy=accuracy_score(y_true=y_test, y_pred=y_pred)\n",
    "# Print the accuracy\n",
    "print(\"The accuracy of trained model is: {:5.2f}%\".format(accuracy*100))"
   ]
  },
  {
   "cell_type": "code",
   "execution_count": 15,
   "id": "6ed7621a",
   "metadata": {},
   "outputs": [
    {
     "name": "stdout",
     "output_type": "stream",
     "text": [
      "              precision    recall  f1-score   support\n",
      "\n",
      "       angry       0.83      0.93      0.88       200\n",
      "        calm       0.82      0.68      0.75        88\n",
      "     disgust       0.93      0.72      0.81       140\n",
      "     fearful       0.84      0.79      0.81       191\n",
      "       happy       0.60      0.93      0.73       201\n",
      "     neutral       0.98      0.86      0.92       168\n",
      "         sad       0.93      0.68      0.79       184\n",
      "   surprised       0.84      0.81      0.83       141\n",
      "\n",
      "    accuracy                           0.81      1313\n",
      "   macro avg       0.85      0.80      0.81      1313\n",
      "weighted avg       0.84      0.81      0.82      1313\n",
      "\n"
     ]
    }
   ],
   "source": [
    "from sklearn.metrics import classification_report\n",
    "print(classification_report(y_test,y_pred))"
   ]
  },
  {
   "cell_type": "code",
   "execution_count": 16,
   "id": "850f3bca",
   "metadata": {},
   "outputs": [
    {
     "name": "stdout",
     "output_type": "stream",
     "text": [
      "[[185   1   1   2  10   0   0   1]\n",
      " [  0  60   2   0  23   1   0   2]\n",
      " [  6   2 101   1  19   0   0  11]\n",
      " [ 12   1   0 151  19   0   7   1]\n",
      " [  9   0   1   3 187   0   1   0]\n",
      " [  4   1   1   0  13 145   1   3]\n",
      " [  5   8   2  21  17   2 126   3]\n",
      " [  1   0   1   2  23   0   0 114]]\n"
     ]
    }
   ],
   "source": [
    " from sklearn.metrics import confusion_matrix\n",
    "matrix = confusion_matrix(y_test,y_pred)\n",
    "print (matrix)"
   ]
  },
  {
   "cell_type": "markdown",
   "id": "a9e32590",
   "metadata": {},
   "source": [
    "                                         Using Deep Learning"
   ]
  },
  {
   "cell_type": "markdown",
   "id": "338a8b15",
   "metadata": {},
   "source": [
    "**Decision Tree Classifier**"
   ]
  },
  {
   "cell_type": "code",
   "execution_count": 17,
   "id": "126fd81f",
   "metadata": {},
   "outputs": [],
   "source": [
    "import librosa\n",
    "from librosa import display\n",
    "\n",
    "data, sampling_rate = librosa.load('C:/Users/HP/Desktop/FINAL PROJECT/CNN Model_panic.wav')"
   ]
  },
  {
   "cell_type": "code",
   "execution_count": 18,
   "id": "3104870f",
   "metadata": {},
   "outputs": [
    {
     "data": {
      "text/plain": [
       "<librosa.display.AdaptiveWaveplot at 0x17767cd24c0>"
      ]
     },
     "execution_count": 18,
     "metadata": {},
     "output_type": "execute_result"
    },
    {
     "data": {
      "image/png": "[encoded data removed]",
      "text/plain": [
       "<Figure size 864x288 with 1 Axes>"
      ]
     },
     "metadata": {
      "needs_background": "light"
     },
     "output_type": "display_data"
    }
   ],
   "source": [
    "import matplotlib.pyplot as plt\n",
    "plt.figure(figsize=(12, 4))\n",
    "librosa.display.waveshow(data, sr=sampling_rate)"
   ]
  },
  {
   "cell_type": "code",
   "execution_count": 19,
   "id": "168e93a1",
   "metadata": {},
   "outputs": [
    {
     "name": "stdout",
     "output_type": "stream",
     "text": [
      "--- Data loaded. Loading time: 488.6064658164978 seconds ---\n"
     ]
    }
   ],
   "source": [
    "import time\n",
    "import os\n",
    "path = 'C:/Users/HP/Desktop/FINAL PROJECT/RAVTESS/'\n",
    "lst = []\n",
    "\n",
    "start_time = time.time()\n",
    "\n",
    "for subdir, dirs, files in os.walk(path):\n",
    "  for file in files:\n",
    "      try:\n",
    "        #Load librosa array, obtain mfcss, store the file and the mcss information in a new array\n",
    "        X, sample_rate = librosa.load(os.path.join(subdir,file), res_type='kaiser_fast')\n",
    "        mfccs = np.mean(librosa.feature.mfcc(y=X, sr=sample_rate, n_mfcc=40).T,axis=0) \n",
    "        # The instruction below converts the labels (from 1 to 8) to a series from 0 to 7\n",
    "        # This is because our predictor needs to start from 0 otherwise it will try to predict also 0.\n",
    "        file = int(file[7:8]) - 1 \n",
    "        arr = mfccs, file\n",
    "        lst.append(arr)\n",
    "      # If the file is not valid, skip it\n",
    "      except ValueError:\n",
    "        continue\n",
    "\n",
    "print(\"--- Data loaded. Loading time: %s seconds ---\" % (time.time() - start_time))"
   ]
  },
  {
   "cell_type": "code",
   "execution_count": 20,
   "id": "fe5671cd",
   "metadata": {},
   "outputs": [],
   "source": [
    "# Creating X and y: zip makes a list of all the first elements, and a list of all the second elements.\n",
    "X, y = zip(*lst)"
   ]
  },
  {
   "cell_type": "code",
   "execution_count": 21,
   "id": "911c0c75",
   "metadata": {},
   "outputs": [
    {
     "data": {
      "text/plain": [
       "((5252, 40), (5252,))"
      ]
     },
     "execution_count": 21,
     "metadata": {},
     "output_type": "execute_result"
    }
   ],
   "source": [
    "import numpy as np\n",
    "X = np.asarray(X)\n",
    "y = np.asarray(y)\n",
    "\n",
    "\n",
    "X.shape, y.shape"
   ]
  },
  {
   "cell_type": "code",
   "execution_count": 22,
   "id": "8dbd4b03",
   "metadata": {},
   "outputs": [],
   "source": [
    "from sklearn.model_selection import train_test_split\n",
    "\n",
    "X_train, X_test, y_train, y_test = train_test_split(X,y, test_size=0.33, random_state=42)"
   ]
  },
  {
   "cell_type": "code",
   "execution_count": 23,
   "id": "109f283f",
   "metadata": {},
   "outputs": [],
   "source": [
    "from sklearn.tree import DecisionTreeClassifier"
   ]
  },
  {
   "cell_type": "code",
   "execution_count": 24,
   "id": "27742f11",
   "metadata": {},
   "outputs": [],
   "source": [
    "dtree = DecisionTreeClassifier()"
   ]
  },
  {
   "cell_type": "code",
   "execution_count": 25,
   "id": "0478da81",
   "metadata": {},
   "outputs": [
    {
     "data": {
      "text/plain": [
       "DecisionTreeClassifier()"
      ]
     },
     "execution_count": 25,
     "metadata": {},
     "output_type": "execute_result"
    }
   ],
   "source": [
    "dtree.fit(X_train, y_train)"
   ]
  },
  {
   "cell_type": "code",
   "execution_count": 26,
   "id": "f880a885",
   "metadata": {},
   "outputs": [],
   "source": [
    "predictions = dtree.predict(X_test)"
   ]
  },
  {
   "cell_type": "code",
   "execution_count": 27,
   "id": "6faea84f",
   "metadata": {},
   "outputs": [
    {
     "name": "stdout",
     "output_type": "stream",
     "text": [
      "              precision    recall  f1-score   support\n",
      "\n",
      "           0       0.75      0.79      0.77       201\n",
      "           1       0.60      0.57      0.59       123\n",
      "           2       0.57      0.56      0.57       256\n",
      "           3       0.68      0.63      0.65       263\n",
      "           4       0.73      0.69      0.71       255\n",
      "           5       0.61      0.69      0.65       241\n",
      "           6       0.65      0.66      0.65       193\n",
      "           7       0.65      0.65      0.65       202\n",
      "\n",
      "    accuracy                           0.66      1734\n",
      "   macro avg       0.66      0.66      0.66      1734\n",
      "weighted avg       0.66      0.66      0.66      1734\n",
      "\n"
     ]
    }
   ],
   "source": [
    "from sklearn.metrics import classification_report,confusion_matrix\n",
    "print(classification_report(y_test,predictions))"
   ]
  },
  {
   "cell_type": "code",
   "execution_count": 28,
   "id": "009792ac",
   "metadata": {},
   "outputs": [
    {
     "name": "stdout",
     "output_type": "stream",
     "text": [
      "[[159  10   3  17   2   4   1   5]\n",
      " [ 16  70   8  12   1   6   6   4]\n",
      " [  5  11 143  11  26  26  10  24]\n",
      " [ 11  15  21 167   4  22  16   7]\n",
      " [  2   3  13  11 177  23  12  14]\n",
      " [  8   2  22  17  12 166   8   6]\n",
      " [  8   4  19   8   5  12 127  10]\n",
      " [  4   1  20   4  14  12  16 131]]\n"
     ]
    }
   ],
   "source": [
    "from sklearn.metrics import confusion_matrix\n",
    "matrix = confusion_matrix(y_test,predictions)\n",
    "print (matrix)"
   ]
  },
  {
   "cell_type": "markdown",
   "id": "0de39008",
   "metadata": {},
   "source": [
    "**Neural Network**"
   ]
  },
  {
   "cell_type": "code",
   "execution_count": 29,
   "id": "ad6631d1",
   "metadata": {},
   "outputs": [],
   "source": [
    "import librosa\n",
    "from librosa import display\n",
    "import os"
   ]
  },
  {
   "cell_type": "code",
   "execution_count": 30,
   "id": "f5ca8722",
   "metadata": {},
   "outputs": [],
   "source": [
    "import numpy as np\n",
    "x_traincnn = np.expand_dims(X_train, axis=2)\n",
    "x_testcnn = np.expand_dims(X_test, axis=2)"
   ]
  },
  {
   "cell_type": "code",
   "execution_count": 31,
   "id": "8d9dae3a",
   "metadata": {},
   "outputs": [
    {
     "data": {
      "text/plain": [
       "((3518, 40, 1), (1734, 40, 1))"
      ]
     },
     "execution_count": 31,
     "metadata": {},
     "output_type": "execute_result"
    }
   ],
   "source": [
    "x_traincnn.shape, x_testcnn.shape"
   ]
  },
  {
   "cell_type": "code",
   "execution_count": 32,
   "id": "7eb2fe26",
   "metadata": {},
   "outputs": [],
   "source": [
    "import keras\n",
    "import numpy as np\n",
    "import matplotlib.pyplot as plt\n",
    "import tensorflow as tf\n",
    "from keras.preprocessing import sequence\n",
    "from keras.models import Sequential\n",
    "from keras.layers import Dense, Embedding\n",
    "from tensorflow.keras.utils import to_categorical\n",
    "from keras.layers import Input, Flatten, Dropout, Activation\n",
    "from keras.layers import Conv1D, MaxPooling1D\n",
    "from keras.models import Model\n",
    "from keras.callbacks import ModelCheckpoint\n",
    "from tensorflow import keras\n",
    "from keras import optimizers"
   ]
  },
  {
   "cell_type": "code",
   "execution_count": 33,
   "id": "7acd51e5",
   "metadata": {},
   "outputs": [],
   "source": [
    "model = Sequential()\n",
    "\n",
    "model.add(Conv1D(64, 5,padding='same',input_shape=(40,1)))\n",
    "model.add(Activation('relu'))\n",
    "model.add(Dropout(0.1))\n",
    "model.add(MaxPooling1D(pool_size=(4)))\n",
    "model.add(Conv1D(128, 5,padding='same',))\n",
    "model.add(Activation('relu'))\n",
    "model.add(Dropout(0.1))\n",
    "model.add(MaxPooling1D(pool_size=(4)))\n",
    "model.add(Conv1D(256, 5,padding='same',))\n",
    "model.add(Activation('relu'))\n",
    "model.add(Dropout(0.1))\n",
    "model.add(Flatten())\n",
    "model.add(Dense(8))\n",
    "model.add(Activation('softmax'))\n",
    "opt = keras.optimizers.RMSprop(lr=0.00005, rho=0.9, epsilon=1e-07, decay=0.0)"
   ]
  },
  {
   "cell_type": "code",
   "execution_count": 34,
   "id": "975f9a10",
   "metadata": {},
   "outputs": [
    {
     "name": "stdout",
     "output_type": "stream",
     "text": [
      "Model: \"sequential\"\n",
      "_________________________________________________________________\n",
      " Layer (type)                Output Shape              Param #   \n",
      "=================================================================\n",
      " conv1d (Conv1D)             (None, 40, 64)            384       \n",
      "                                                                 \n",
      " activation (Activation)     (None, 40, 64)            0         \n",
      "                                                                 \n",
      " dropout (Dropout)           (None, 40, 64)            0         \n",
      "                                                                 \n",
      " max_pooling1d (MaxPooling1D  (None, 10, 64)           0         \n",
      " )                                                               \n",
      "                                                                 \n",
      " conv1d_1 (Conv1D)           (None, 10, 128)           41088     \n",
      "                                                                 \n",
      " activation_1 (Activation)   (None, 10, 128)           0         \n",
      "                                                                 \n",
      " dropout_1 (Dropout)         (None, 10, 128)           0         \n",
      "                                                                 \n",
      " max_pooling1d_1 (MaxPooling  (None, 2, 128)           0         \n",
      " 1D)                                                             \n",
      "                                                                 \n",
      " conv1d_2 (Conv1D)           (None, 2, 256)            164096    \n",
      "                                                                 \n",
      " activation_2 (Activation)   (None, 2, 256)            0         \n",
      "                                                                 \n",
      " dropout_2 (Dropout)         (None, 2, 256)            0         \n",
      "                                                                 \n",
      " flatten (Flatten)           (None, 512)               0         \n",
      "                                                                 \n",
      " dense (Dense)               (None, 8)                 4104      \n",
      "                                                                 \n",
      " activation_3 (Activation)   (None, 8)                 0         \n",
      "                                                                 \n",
      "=================================================================\n",
      "Total params: 209,672\n",
      "Trainable params: 209,672\n",
      "Non-trainable params: 0\n",
      "_________________________________________________________________\n"
     ]
    }
   ],
   "source": [
    "model.summary()"
   ]
  },
  {
   "cell_type": "code",
   "execution_count": 35,
   "id": "c3bb28fe",
   "metadata": {},
   "outputs": [],
   "source": [
    "model.compile(loss='sparse_categorical_crossentropy',optimizer=opt,metrics=['accuracy'])"
   ]
  },
  {
   "cell_type": "code",
   "execution_count": 38,
   "id": "59a50213",
   "metadata": {},
   "outputs": [
    {
     "name": "stdout",
     "output_type": "stream",
     "text": [
      "Epoch 1/50\n",
      "220/220 [==============================] - 3s 13ms/step - loss: 0.0619 - accuracy: 0.9804 - val_loss: 0.5575 - val_accuracy: 0.8633\n",
      "Epoch 2/50\n",
      "220/220 [==============================] - 3s 13ms/step - loss: 0.0733 - accuracy: 0.9778 - val_loss: 0.4733 - val_accuracy: 0.8812\n",
      "Epoch 3/50\n",
      "220/220 [==============================] - 3s 11ms/step - loss: 0.0576 - accuracy: 0.9818 - val_loss: 0.5117 - val_accuracy: 0.8749\n",
      "Epoch 4/50\n",
      "220/220 [==============================] - 3s 12ms/step - loss: 0.0613 - accuracy: 0.9784 - val_loss: 0.5257 - val_accuracy: 0.8702\n",
      "Epoch 5/50\n",
      "220/220 [==============================] - 3s 12ms/step - loss: 0.0633 - accuracy: 0.9790 - val_loss: 0.4972 - val_accuracy: 0.8772\n",
      "Epoch 6/50\n",
      "220/220 [==============================] - 3s 11ms/step - loss: 0.0664 - accuracy: 0.9773 - val_loss: 0.5110 - val_accuracy: 0.8800\n",
      "Epoch 7/50\n",
      "220/220 [==============================] - 3s 12ms/step - loss: 0.0581 - accuracy: 0.9770 - val_loss: 0.4864 - val_accuracy: 0.8795\n",
      "Epoch 8/50\n",
      "220/220 [==============================] - 3s 12ms/step - loss: 0.0520 - accuracy: 0.9818 - val_loss: 0.4887 - val_accuracy: 0.8772\n",
      "Epoch 9/50\n",
      "220/220 [==============================] - 3s 12ms/step - loss: 0.0568 - accuracy: 0.9815 - val_loss: 0.5164 - val_accuracy: 0.8679\n",
      "Epoch 10/50\n",
      "220/220 [==============================] - 2s 11ms/step - loss: 0.0713 - accuracy: 0.9747 - val_loss: 0.5026 - val_accuracy: 0.8749\n",
      "Epoch 11/50\n",
      "220/220 [==============================] - 2s 11ms/step - loss: 0.0574 - accuracy: 0.9792 - val_loss: 0.4987 - val_accuracy: 0.8812\n",
      "Epoch 12/50\n",
      "220/220 [==============================] - 3s 12ms/step - loss: 0.0786 - accuracy: 0.9761 - val_loss: 0.5092 - val_accuracy: 0.8760\n",
      "Epoch 13/50\n",
      "220/220 [==============================] - 3s 12ms/step - loss: 0.0718 - accuracy: 0.9773 - val_loss: 0.5058 - val_accuracy: 0.8766\n",
      "Epoch 14/50\n",
      "220/220 [==============================] - 3s 12ms/step - loss: 0.0528 - accuracy: 0.9832 - val_loss: 0.4871 - val_accuracy: 0.8835\n",
      "Epoch 15/50\n",
      "220/220 [==============================] - 3s 12ms/step - loss: 0.0603 - accuracy: 0.9773 - val_loss: 0.5126 - val_accuracy: 0.8749\n",
      "Epoch 16/50\n",
      "220/220 [==============================] - 3s 12ms/step - loss: 0.0608 - accuracy: 0.9798 - val_loss: 0.5088 - val_accuracy: 0.8737\n",
      "Epoch 17/50\n",
      "220/220 [==============================] - 2s 10ms/step - loss: 0.0712 - accuracy: 0.9767 - val_loss: 0.5233 - val_accuracy: 0.8708\n",
      "Epoch 18/50\n",
      "220/220 [==============================] - 2s 11ms/step - loss: 0.0642 - accuracy: 0.9795 - val_loss: 0.5243 - val_accuracy: 0.8674\n",
      "Epoch 19/50\n",
      "220/220 [==============================] - 3s 12ms/step - loss: 0.0564 - accuracy: 0.9790 - val_loss: 0.5250 - val_accuracy: 0.8766\n",
      "Epoch 20/50\n",
      "220/220 [==============================] - 2s 11ms/step - loss: 0.0525 - accuracy: 0.9829 - val_loss: 0.5383 - val_accuracy: 0.8743\n",
      "Epoch 21/50\n",
      "220/220 [==============================] - 3s 12ms/step - loss: 0.0515 - accuracy: 0.9829 - val_loss: 0.5257 - val_accuracy: 0.8766\n",
      "Epoch 22/50\n",
      "220/220 [==============================] - 3s 13ms/step - loss: 0.0655 - accuracy: 0.9770 - val_loss: 0.5125 - val_accuracy: 0.8766\n",
      "Epoch 23/50\n",
      "220/220 [==============================] - 3s 12ms/step - loss: 0.0620 - accuracy: 0.9770 - val_loss: 0.4962 - val_accuracy: 0.8743\n",
      "Epoch 24/50\n",
      "220/220 [==============================] - 2s 11ms/step - loss: 0.0654 - accuracy: 0.9781 - val_loss: 0.5076 - val_accuracy: 0.8754\n",
      "Epoch 25/50\n",
      "220/220 [==============================] - 3s 13ms/step - loss: 0.0643 - accuracy: 0.9804 - val_loss: 0.5199 - val_accuracy: 0.8685\n",
      "Epoch 26/50\n",
      "220/220 [==============================] - 3s 12ms/step - loss: 0.0583 - accuracy: 0.9807 - val_loss: 0.5398 - val_accuracy: 0.8610\n",
      "Epoch 27/50\n",
      "220/220 [==============================] - 3s 12ms/step - loss: 0.0740 - accuracy: 0.9764 - val_loss: 0.4955 - val_accuracy: 0.8743\n",
      "Epoch 28/50\n",
      "220/220 [==============================] - 3s 12ms/step - loss: 0.0579 - accuracy: 0.9815 - val_loss: 0.5005 - val_accuracy: 0.8725\n",
      "Epoch 29/50\n",
      "220/220 [==============================] - 2s 11ms/step - loss: 0.0565 - accuracy: 0.9795 - val_loss: 0.5228 - val_accuracy: 0.8783\n",
      "Epoch 30/50\n",
      "220/220 [==============================] - 2s 11ms/step - loss: 0.0535 - accuracy: 0.9815 - val_loss: 0.4882 - val_accuracy: 0.8800\n",
      "Epoch 31/50\n",
      "220/220 [==============================] - 3s 13ms/step - loss: 0.0631 - accuracy: 0.9758 - val_loss: 0.4992 - val_accuracy: 0.8812\n",
      "Epoch 32/50\n",
      "220/220 [==============================] - 3s 12ms/step - loss: 0.0564 - accuracy: 0.9818 - val_loss: 0.5021 - val_accuracy: 0.8725\n",
      "Epoch 33/50\n",
      "220/220 [==============================] - 3s 13ms/step - loss: 0.0536 - accuracy: 0.9815 - val_loss: 0.5057 - val_accuracy: 0.8818\n",
      "Epoch 34/50\n",
      "220/220 [==============================] - 3s 12ms/step - loss: 0.0640 - accuracy: 0.9801 - val_loss: 0.5020 - val_accuracy: 0.8749\n",
      "Epoch 35/50\n",
      "220/220 [==============================] - 2s 11ms/step - loss: 0.0650 - accuracy: 0.9804 - val_loss: 0.5239 - val_accuracy: 0.8743\n",
      "Epoch 36/50\n",
      "220/220 [==============================] - 3s 12ms/step - loss: 0.0492 - accuracy: 0.9849 - val_loss: 0.5684 - val_accuracy: 0.8725\n",
      "Epoch 37/50\n",
      "220/220 [==============================] - 3s 13ms/step - loss: 0.0521 - accuracy: 0.9832 - val_loss: 0.5461 - val_accuracy: 0.8754\n",
      "Epoch 38/50\n",
      "220/220 [==============================] - 3s 13ms/step - loss: 0.0706 - accuracy: 0.9770 - val_loss: 0.5159 - val_accuracy: 0.8743\n",
      "Epoch 39/50\n",
      "220/220 [==============================] - 3s 13ms/step - loss: 0.0525 - accuracy: 0.9810 - val_loss: 0.5548 - val_accuracy: 0.8685\n",
      "Epoch 40/50\n",
      "220/220 [==============================] - 3s 13ms/step - loss: 0.0561 - accuracy: 0.9807 - val_loss: 0.5143 - val_accuracy: 0.8795\n",
      "Epoch 41/50\n",
      "220/220 [==============================] - 2s 11ms/step - loss: 0.0536 - accuracy: 0.9818 - val_loss: 0.5126 - val_accuracy: 0.8777\n",
      "Epoch 42/50\n",
      "220/220 [==============================] - 3s 12ms/step - loss: 0.0596 - accuracy: 0.9810 - val_loss: 0.5117 - val_accuracy: 0.8760\n",
      "Epoch 43/50\n",
      "220/220 [==============================] - 3s 12ms/step - loss: 0.0686 - accuracy: 0.9787 - val_loss: 0.5123 - val_accuracy: 0.8720\n",
      "Epoch 44/50\n",
      "220/220 [==============================] - 3s 13ms/step - loss: 0.0574 - accuracy: 0.9815 - val_loss: 0.5147 - val_accuracy: 0.8743\n",
      "Epoch 45/50\n",
      "220/220 [==============================] - 3s 13ms/step - loss: 0.0593 - accuracy: 0.9815 - val_loss: 0.5182 - val_accuracy: 0.8777\n",
      "Epoch 46/50\n",
      "220/220 [==============================] - 3s 12ms/step - loss: 0.0501 - accuracy: 0.9844 - val_loss: 0.5504 - val_accuracy: 0.8766\n",
      "Epoch 47/50\n",
      "220/220 [==============================] - 2s 11ms/step - loss: 0.0634 - accuracy: 0.9818 - val_loss: 0.5131 - val_accuracy: 0.8795\n",
      "Epoch 48/50\n",
      "220/220 [==============================] - 2s 11ms/step - loss: 0.0627 - accuracy: 0.9801 - val_loss: 0.4963 - val_accuracy: 0.8766\n",
      "Epoch 49/50\n",
      "220/220 [==============================] - 3s 12ms/step - loss: 0.0622 - accuracy: 0.9818 - val_loss: 0.4940 - val_accuracy: 0.8795\n",
      "Epoch 50/50\n",
      "220/220 [==============================] - 3s 12ms/step - loss: 0.0629 - accuracy: 0.9827 - val_loss: 0.5392 - val_accuracy: 0.8737\n"
     ]
    }
   ],
   "source": [
    "cnnhistory=model.fit(x_traincnn, y_train, batch_size=16, epochs=50, validation_data=(x_testcnn, y_test))"
   ]
  },
  {
   "cell_type": "code",
   "execution_count": 39,
   "id": "86fc4f6c",
   "metadata": {},
   "outputs": [
    {
     "data": {
      "image/png": "[encoded data removed]",
      "text/plain": [
       "<Figure size 432x288 with 1 Axes>"
      ]
     },
     "metadata": {
      "needs_background": "light"
     },
     "output_type": "display_data"
    }
   ],
   "source": [
    "plt.plot(cnnhistory.history['loss'])\n",
    "plt.plot(cnnhistory.history['val_loss'])\n",
    "plt.title('model loss')\n",
    "plt.ylabel('loss')\n",
    "plt.xlabel('epoch')\n",
    "plt.legend(['train', 'test'], loc='upper left')\n",
    "plt.show()"
   ]
  },
  {
   "cell_type": "code",
   "execution_count": 40,
   "id": "9489f5aa",
   "metadata": {},
   "outputs": [
    {
     "data": {
      "image/png": "[encoded data removed]",
      "text/plain": [
       "<Figure size 432x288 with 1 Axes>"
      ]
     },
     "metadata": {
      "needs_background": "light"
     },
     "output_type": "display_data"
    }
   ],
   "source": [
    "plt.plot(cnnhistory.history['accuracy'])\n",
    "plt.plot(cnnhistory.history['val_accuracy'])\n",
    "plt.title('model accuracy')\n",
    "plt.ylabel('accuracy')\n",
    "plt.xlabel('epoch')\n",
    "plt.legend(['train', 'test'], loc='upper left') \n",
    "plt.show()"
   ]
  },
  {
   "cell_type": "code",
   "execution_count": 41,
   "id": "ec570fed",
   "metadata": {},
   "outputs": [
    {
     "name": "stdout",
     "output_type": "stream",
     "text": [
      "55/55 [==============================] - 2s 4ms/step\n"
     ]
    }
   ],
   "source": [
    "predictions =np.argmax(model.predict(x_testcnn),axis=-1)"
   ]
  },
  {
   "cell_type": "code",
   "execution_count": 42,
   "id": "fc603d6e",
   "metadata": {},
   "outputs": [
    {
     "data": {
      "text/plain": [
       "array([0, 3, 0, ..., 1, 5, 0], dtype=int64)"
      ]
     },
     "execution_count": 42,
     "metadata": {},
     "output_type": "execute_result"
    }
   ],
   "source": [
    "predictions"
   ]
  },
  {
   "cell_type": "code",
   "execution_count": 43,
   "id": "a6f7edee",
   "metadata": {},
   "outputs": [
    {
     "data": {
      "text/plain": [
       "array([0, 3, 0, ..., 1, 5, 0])"
      ]
     },
     "execution_count": 43,
     "metadata": {},
     "output_type": "execute_result"
    }
   ],
   "source": [
    "y_test"
   ]
  },
  {
   "cell_type": "code",
   "execution_count": 44,
   "id": "ccb8c320",
   "metadata": {},
   "outputs": [],
   "source": [
    "new_Ytest = y_test.astype(int)"
   ]
  },
  {
   "cell_type": "code",
   "execution_count": 45,
   "id": "6f99fb9c",
   "metadata": {},
   "outputs": [
    {
     "data": {
      "text/plain": [
       "array([0, 3, 0, ..., 1, 5, 0])"
      ]
     },
     "execution_count": 45,
     "metadata": {},
     "output_type": "execute_result"
    }
   ],
   "source": [
    "new_Ytest"
   ]
  },
  {
   "cell_type": "code",
   "execution_count": 46,
   "id": "c14e4df7",
   "metadata": {},
   "outputs": [
    {
     "name": "stdout",
     "output_type": "stream",
     "text": [
      "              precision    recall  f1-score   support\n",
      "\n",
      "           0       0.96      0.90      0.93       201\n",
      "           1       0.72      0.90      0.80       123\n",
      "           2       0.91      0.79      0.85       256\n",
      "           3       0.87      0.83      0.85       263\n",
      "           4       0.90      0.94      0.92       255\n",
      "           5       0.82      0.89      0.85       241\n",
      "           6       0.89      0.88      0.89       193\n",
      "           7       0.90      0.88      0.89       202\n",
      "\n",
      "    accuracy                           0.87      1734\n",
      "   macro avg       0.87      0.88      0.87      1734\n",
      "weighted avg       0.88      0.87      0.87      1734\n",
      "\n"
     ]
    }
   ],
   "source": [
    "from sklearn.metrics import classification_report\n",
    "\n",
    "report = classification_report(new_Ytest,predictions)\n",
    "print(report)"
   ]
  },
  {
   "cell_type": "code",
   "execution_count": 47,
   "id": "0a1c3153",
   "metadata": {},
   "outputs": [
    {
     "data": {
      "image/png": "[encoded data removed]",
      "text/plain": [
       "<Figure size 864x720 with 2 Axes>"
      ]
     },
     "metadata": {
      "needs_background": "light"
     },
     "output_type": "display_data"
    }
   ],
   "source": [
    "import pandas as pd\n",
    "import seaborn as sns\n",
    "from sklearn.metrics import confusion_matrix\n",
    "\n",
    "new_Ytest = y_test.astype(int)\n",
    "matrix = confusion_matrix(new_Ytest,predictions)\n",
    "# print (matrix)\n",
    "# 0 = neutral, 1 = calm, 2 = happy, 3 = sad, 4 = angry, 5 = fearful, 6 = disgust, 7 = surprised\n",
    "\n",
    "plt.figure(figsize = (12, 10))\n",
    "matrix = pd.DataFrame(matrix , index = [\"Neutral\",\"Calm\",\"Happy\",\"Sad\",\"Angry\",\"Fear\",\"Disgust\",\"Surprise\"] , columns = [\"Neutral\",\"Calm\",\"Happy\",\"Sad\",\"Angry\",\"Fear\",\"Disgust\",\"Surprise\"])\n",
    "ax = sns.heatmap(matrix, linecolor='white', cmap='Greens', linewidth=1, annot=True, fmt='')\n",
    "bottom, top = ax.get_ylim()\n",
    "ax.set_ylim(bottom + 0.5, top - 0.5)\n",
    "plt.title('Confusion Matrix', size=20)\n",
    "plt.xlabel('Predicted Labels', size=14)\n",
    "plt.ylabel('Actual Labels', size=14)\n",
    "plt.show()"
   ]
  },
  {
   "cell_type": "code",
   "execution_count": 48,
   "id": "63ebd140",
   "metadata": {},
   "outputs": [
    {
     "name": "stdout",
     "output_type": "stream",
     "text": [
      "MODEL SAVED\n"
     ]
    }
   ],
   "source": [
    "model.save('Final_model.h5')\n",
    "print(\"MODEL SAVED\")"
   ]
  },
  {
   "cell_type": "code",
   "execution_count": 49,
   "id": "e1a3cb06",
   "metadata": {},
   "outputs": [
    {
     "name": "stdout",
     "output_type": "stream",
     "text": [
      "Model: \"sequential\"\n",
      "_________________________________________________________________\n",
      " Layer (type)                Output Shape              Param #   \n",
      "=================================================================\n",
      " conv1d (Conv1D)             (None, 40, 64)            384       \n",
      "                                                                 \n",
      " activation (Activation)     (None, 40, 64)            0         \n",
      "                                                                 \n",
      " dropout (Dropout)           (None, 40, 64)            0         \n",
      "                                                                 \n",
      " max_pooling1d (MaxPooling1D  (None, 10, 64)           0         \n",
      " )                                                               \n",
      "                                                                 \n",
      " conv1d_1 (Conv1D)           (None, 10, 128)           41088     \n",
      "                                                                 \n",
      " activation_1 (Activation)   (None, 10, 128)           0         \n",
      "                                                                 \n",
      " dropout_1 (Dropout)         (None, 10, 128)           0         \n",
      "                                                                 \n",
      " max_pooling1d_1 (MaxPooling  (None, 2, 128)           0         \n",
      " 1D)                                                             \n",
      "                                                                 \n",
      " conv1d_2 (Conv1D)           (None, 2, 256)            164096    \n",
      "                                                                 \n",
      " activation_2 (Activation)   (None, 2, 256)            0         \n",
      "                                                                 \n",
      " dropout_2 (Dropout)         (None, 2, 256)            0         \n",
      "                                                                 \n",
      " flatten (Flatten)           (None, 512)               0         \n",
      "                                                                 \n",
      " dense (Dense)               (None, 8)                 4104      \n",
      "                                                                 \n",
      " activation_3 (Activation)   (None, 8)                 0         \n",
      "                                                                 \n",
      "=================================================================\n",
      "Total params: 209,672\n",
      "Trainable params: 209,672\n",
      "Non-trainable params: 0\n",
      "_________________________________________________________________\n"
     ]
    }
   ],
   "source": [
    "new_model=keras.models.load_model('Final_model.h5')\n",
    "new_model.summary()"
   ]
  },
  {
   "cell_type": "code",
   "execution_count": 50,
   "id": "5ada49e7",
   "metadata": {},
   "outputs": [
    {
     "name": "stdout",
     "output_type": "stream",
     "text": [
      "55/55 [==============================] - 1s 5ms/step - loss: 0.5392 - accuracy: 0.8737\n",
      "Restored model, accuracy: 87.37%\n"
     ]
    }
   ],
   "source": [
    "loss, acc = new_model.evaluate(x_testcnn, y_test)\n",
    "print(\"Restored model, accuracy: {:5.2f}%\".format(100*acc))"
   ]
  }
 ],
 "metadata": {
  "kernelspec": {
   "display_name": "Python 3 (ipykernel)",
   "language": "python",
   "name": "python3"
  },
  "language_info": {
   "codemirror_mode": {
    "name": "ipython",
    "version": 3
   },
   "file_extension": ".py",
   "mimetype": "text/x-python",
   "name": "python",
   "nbconvert_exporter": "python",
   "pygments_lexer": "ipython3",
   "version": "3.9.12"
  }
 },
 "nbformat": 4,
 "nbformat_minor": 5
}
